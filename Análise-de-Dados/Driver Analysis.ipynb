{
 "cells": [
  {
   "cell_type": "markdown",
   "id": "e60fd036",
   "metadata": {},
   "source": [
    "## Dataset  - Drivers\n",
    "\n",
    "Realizando uma análise prévia dos dados do dataset drivers.csv, afim de encontrar algumas informações relevantes para o negócio."
   ]
  },
  {
   "cell_type": "code",
   "execution_count": 9,
   "id": "02dac0a8",
   "metadata": {},
   "outputs": [],
   "source": [
    "# Importando bibliotecas necessárias\n",
    "import pandas as pd\n",
    "import seaborn as sns\n",
    "%matplotlib inline"
   ]
  },
  {
   "cell_type": "code",
   "execution_count": 13,
   "id": "57444b9e",
   "metadata": {},
   "outputs": [],
   "source": [
    "# Realizando leitura dos dados\n",
    "drivers_dataset = pd.read_csv('dados/drivers.csv')"
   ]
  },
  {
   "cell_type": "code",
   "execution_count": 3,
   "id": "b99753b3",
   "metadata": {},
   "outputs": [
    {
     "data": {
      "text/html": [
       "<div>\n",
       "<style scoped>\n",
       "    .dataframe tbody tr th:only-of-type {\n",
       "        vertical-align: middle;\n",
       "    }\n",
       "\n",
       "    .dataframe tbody tr th {\n",
       "        vertical-align: top;\n",
       "    }\n",
       "\n",
       "    .dataframe thead th {\n",
       "        text-align: right;\n",
       "    }\n",
       "</style>\n",
       "<table border=\"1\" class=\"dataframe\">\n",
       "  <thead>\n",
       "    <tr style=\"text-align: right;\">\n",
       "      <th></th>\n",
       "      <th>driver_id</th>\n",
       "      <th>driver_modal</th>\n",
       "      <th>driver_type</th>\n",
       "    </tr>\n",
       "  </thead>\n",
       "  <tbody>\n",
       "    <tr>\n",
       "      <th>0</th>\n",
       "      <td>133</td>\n",
       "      <td>MOTOBOY</td>\n",
       "      <td>LOGISTIC OPERATOR</td>\n",
       "    </tr>\n",
       "    <tr>\n",
       "      <th>1</th>\n",
       "      <td>138</td>\n",
       "      <td>MOTOBOY</td>\n",
       "      <td>FREELANCE</td>\n",
       "    </tr>\n",
       "    <tr>\n",
       "      <th>2</th>\n",
       "      <td>140</td>\n",
       "      <td>MOTOBOY</td>\n",
       "      <td>FREELANCE</td>\n",
       "    </tr>\n",
       "    <tr>\n",
       "      <th>3</th>\n",
       "      <td>143</td>\n",
       "      <td>BIKER</td>\n",
       "      <td>FREELANCE</td>\n",
       "    </tr>\n",
       "    <tr>\n",
       "      <th>4</th>\n",
       "      <td>148</td>\n",
       "      <td>MOTOBOY</td>\n",
       "      <td>FREELANCE</td>\n",
       "    </tr>\n",
       "  </tbody>\n",
       "</table>\n",
       "</div>"
      ],
      "text/plain": [
       "   driver_id driver_modal        driver_type\n",
       "0        133      MOTOBOY  LOGISTIC OPERATOR\n",
       "1        138      MOTOBOY          FREELANCE\n",
       "2        140      MOTOBOY          FREELANCE\n",
       "3        143        BIKER          FREELANCE\n",
       "4        148      MOTOBOY          FREELANCE"
      ]
     },
     "execution_count": 3,
     "metadata": {},
     "output_type": "execute_result"
    }
   ],
   "source": [
    "# Leitura e visualização dos dados\n",
    "drivers_dataset = pd.read_csv('dados/drivers.csv')\n",
    "drivers_dataset.head()"
   ]
  },
  {
   "cell_type": "markdown",
   "id": "dc8d58b9",
   "metadata": {},
   "source": [
    "### Verificando a porporção de cada tipo de Entregador"
   ]
  },
  {
   "cell_type": "code",
   "execution_count": 4,
   "id": "d368e512",
   "metadata": {},
   "outputs": [
    {
     "data": {
      "text/plain": [
       "MOTOBOY    3222\n",
       "BIKER      1602\n",
       "Name: driver_modal, dtype: int64"
      ]
     },
     "execution_count": 4,
     "metadata": {},
     "output_type": "execute_result"
    }
   ],
   "source": [
    "motorista = drivers_dataset.driver_modal.value_counts()\n",
    "motorista"
   ]
  },
  {
   "cell_type": "code",
   "execution_count": 5,
   "id": "ad8d328c",
   "metadata": {},
   "outputs": [
    {
     "name": "stdout",
     "output_type": "stream",
     "text": [
      "A Quantidade de Motocilistas, equivalem a 66.79 %\n",
      "A Quantidade de Bikers, equivalem a 33.21 %\n"
     ]
    }
   ],
   "source": [
    "# Podemos calcular com base nos dados a porcentagem que cada um representa na população dos dados\n",
    "qtd_biker = motorista.BIKER\n",
    "qtd_motoboy = motorista.MOTOBOY\n",
    "qtd_total = drivers_dataset.driver_modal.count()\n",
    "\n",
    "proporcao_motoboy = (qtd_motoboy / qtd_total) * 100\n",
    "proporcao_biker   = (qtd_biker / qtd_total) * 100\n",
    "\n",
    "print(f'A Quantidade de Motocilistas, equivalem a {proporcao_motoboy:.2f} %')\n",
    "print(f'A Quantidade de Bikers, equivalem a {proporcao_biker:.2f} %')     "
   ]
  },
  {
   "cell_type": "markdown",
   "id": "c1ff6b58",
   "metadata": {},
   "source": [
    "#### No gráfico abaixo, podemos confirmar que, de acordo com os dados disponibilizados, o quantidade de motoqueiros é maior que a quantidade de Bikers"
   ]
  },
  {
   "cell_type": "code",
   "execution_count": 11,
   "id": "08e40584",
   "metadata": {},
   "outputs": [
    {
     "data": {
      "image/png": "[encoded data removed]",
      "text/plain": [
       "<Figure size 432x288 with 1 Axes>"
      ]
     },
     "metadata": {},
     "output_type": "display_data"
    }
   ],
   "source": [
    "sns.set_theme(style=\"darkgrid\")\n",
    "ax = sns.countplot(x=\"driver_modal\", data=drivers_dataset)"
   ]
  },
  {
   "cell_type": "code",
   "execution_count": 15,
   "id": "a90bf9cd",
   "metadata": {},
   "outputs": [
    {
     "data": {
      "text/plain": [
       "MOTOBOY    3222\n",
       "BIKER      1602\n",
       "Name: driver_modal, dtype: int64"
      ]
     },
     "execution_count": 15,
     "metadata": {},
     "output_type": "execute_result"
    }
   ],
   "source": [
    "motorista.head()"
   ]
  },
  {
   "cell_type": "markdown",
   "id": "0fcd2839",
   "metadata": {},
   "source": [
    "### Podemos verficar também a porporção do tipo de motorista com base no tipo de Entregador"
   ]
  },
  {
   "cell_type": "code",
   "execution_count": 30,
   "id": "46857da8",
   "metadata": {},
   "outputs": [
    {
     "data": {
      "text/html": [
       "<div>\n",
       "<style scoped>\n",
       "    .dataframe tbody tr th:only-of-type {\n",
       "        vertical-align: middle;\n",
       "    }\n",
       "\n",
       "    .dataframe tbody tr th {\n",
       "        vertical-align: top;\n",
       "    }\n",
       "\n",
       "    .dataframe thead th {\n",
       "        text-align: right;\n",
       "    }\n",
       "</style>\n",
       "<table border=\"1\" class=\"dataframe\">\n",
       "  <thead>\n",
       "    <tr style=\"text-align: right;\">\n",
       "      <th></th>\n",
       "      <th></th>\n",
       "      <th>driver_type</th>\n",
       "    </tr>\n",
       "    <tr>\n",
       "      <th>driver_modal</th>\n",
       "      <th>driver_type</th>\n",
       "      <th></th>\n",
       "    </tr>\n",
       "  </thead>\n",
       "  <tbody>\n",
       "    <tr>\n",
       "      <th rowspan=\"2\" valign=\"top\">BIKER</th>\n",
       "      <th>FREELANCE</th>\n",
       "      <td>1601</td>\n",
       "    </tr>\n",
       "    <tr>\n",
       "      <th>LOGISTIC OPERATOR</th>\n",
       "      <td>1</td>\n",
       "    </tr>\n",
       "    <tr>\n",
       "      <th rowspan=\"2\" valign=\"top\">MOTOBOY</th>\n",
       "      <th>FREELANCE</th>\n",
       "      <td>2338</td>\n",
       "    </tr>\n",
       "    <tr>\n",
       "      <th>LOGISTIC OPERATOR</th>\n",
       "      <td>884</td>\n",
       "    </tr>\n",
       "  </tbody>\n",
       "</table>\n",
       "</div>"
      ],
      "text/plain": [
       "                                driver_type\n",
       "driver_modal driver_type                   \n",
       "BIKER        FREELANCE                 1601\n",
       "             LOGISTIC OPERATOR            1\n",
       "MOTOBOY      FREELANCE                 2338\n",
       "             LOGISTIC OPERATOR          884"
      ]
     },
     "execution_count": 30,
     "metadata": {},
     "output_type": "execute_result"
    }
   ],
   "source": [
    "# Para isso, precisaremos criar um subset do dataset com os campos que iremos utilizar\n",
    "subset = drivers_dataset.groupby(['driver_modal','driver_type'])['driver_type'].count()\n",
    "pd.DataFrame(subset)"
   ]
  },
  {
   "cell_type": "code",
   "execution_count": 31,
   "id": "e5a67438",
   "metadata": {},
   "outputs": [],
   "source": [
    "# Realizando calculos\n",
    "\n",
    "# Primeiro é necessário saber a quantidade de entregador de cada categoria\n",
    "motorista = drivers_dataset.driver_modal.value_counts()\n",
    "total_biker = motorista.BIKER\n",
    "total_motoboy = motorista.MOTOBOY\n",
    "\n",
    "# Agora poderemos realizar o calculo de Proporcionalidade para os mesmos\n",
    "\n",
    "# Bikers\n",
    "proporcao_biker_freelance =     (1601 / total_biker) * 100\n",
    "proporcao_biker_logistic_oper = (1   /  total_biker) * 100\n",
    "\n",
    "# Motoboys\n",
    "proporcao_moboboy_freelance =     (2338 / total_motoboy) * 100\n",
    "proporcao_moboboy_logistic_oper = (884 / total_motoboy)  * 100\n"
   ]
  },
  {
   "cell_type": "code",
   "execution_count": 42,
   "id": "f79a37af",
   "metadata": {},
   "outputs": [
    {
     "data": {
      "text/html": [
       "<div>\n",
       "<style scoped>\n",
       "    .dataframe tbody tr th:only-of-type {\n",
       "        vertical-align: middle;\n",
       "    }\n",
       "\n",
       "    .dataframe tbody tr th {\n",
       "        vertical-align: top;\n",
       "    }\n",
       "\n",
       "    .dataframe thead th {\n",
       "        text-align: right;\n",
       "    }\n",
       "</style>\n",
       "<table border=\"1\" class=\"dataframe\">\n",
       "  <thead>\n",
       "    <tr style=\"text-align: right;\">\n",
       "      <th></th>\n",
       "      <th>ENTREGADOR</th>\n",
       "      <th>TIPO</th>\n",
       "      <th>PROPORÇÃO</th>\n",
       "    </tr>\n",
       "  </thead>\n",
       "  <tbody>\n",
       "    <tr>\n",
       "      <th>0</th>\n",
       "      <td>BIKER</td>\n",
       "      <td>FREELANCER</td>\n",
       "      <td>99.94 %</td>\n",
       "    </tr>\n",
       "    <tr>\n",
       "      <th>1</th>\n",
       "      <td>BIKER</td>\n",
       "      <td>LOGISTIC OPERATOR</td>\n",
       "      <td>0.06 %</td>\n",
       "    </tr>\n",
       "    <tr>\n",
       "      <th>2</th>\n",
       "      <td>MOTOBOY</td>\n",
       "      <td>FREELANCER</td>\n",
       "      <td>72.56 %</td>\n",
       "    </tr>\n",
       "    <tr>\n",
       "      <th>3</th>\n",
       "      <td>MOTOBOY</td>\n",
       "      <td>LOGISTIC OPERATOR</td>\n",
       "      <td>27.44 %</td>\n",
       "    </tr>\n",
       "  </tbody>\n",
       "</table>\n",
       "</div>"
      ],
      "text/plain": [
       "  ENTREGADOR               TIPO PROPORÇÃO\n",
       "0      BIKER         FREELANCER   99.94 %\n",
       "1      BIKER  LOGISTIC OPERATOR    0.06 %\n",
       "2    MOTOBOY         FREELANCER   72.56 %\n",
       "3    MOTOBOY  LOGISTIC OPERATOR   27.44 %"
      ]
     },
     "execution_count": 42,
     "metadata": {},
     "output_type": "execute_result"
    }
   ],
   "source": [
    "dicionario = {\n",
    "    'ENTREGADOR' : ['BIKER','BIKER','MOTOBOY','MOTOBOY'],\n",
    "    'TIPO'       : ['FREELANCER','LOGISTIC OPERATOR','FREELANCER','LOGISTIC OPERATOR'],\n",
    "    'PROPORÇÃO'  : [proporcao_biker_freelance, proporcao_biker_logistic_oper,\n",
    "                    proporcao_moboboy_freelance,proporcao_moboboy_logistic_oper ]\n",
    "}\n",
    "\n",
    "resultado = pd.DataFrame(dicionario)\n",
    "lista_proporcao = list(resultado.PROPORÇÃO)\n",
    "resultado['PROPORÇÃO'] = [f'{x:.2f} %' for x in lista_proporcao]\n",
    "resultado"
   ]
  },
  {
   "cell_type": "markdown",
   "id": "ca95d165",
   "metadata": {},
   "source": [
    "Podemos dizer então que, do total de Bikers, <b>99,94%</b> são Freelancer, enquanto que apenas <b>0.06 %</b> São Logistic Operators<br/>\n",
    "Já no caso dos Motoboys, <b>72.56 % </b> São freelancer, enquanto <b>27.44 %</b> são Logistic Operators."
   ]
  }
 ],
 "metadata": {
  "kernelspec": {
   "display_name": "Python 3",
   "language": "python",
   "name": "python3"
  },
  "language_info": {
   "codemirror_mode": {
    "name": "ipython",
    "version": 3
   },
   "file_extension": ".py",
   "mimetype": "text/x-python",
   "name": "python",
   "nbconvert_exporter": "python",
   "pygments_lexer": "ipython3",
   "version": "3.8.8"
  }
 },
 "nbformat": 4,
 "nbformat_minor": 5
}
